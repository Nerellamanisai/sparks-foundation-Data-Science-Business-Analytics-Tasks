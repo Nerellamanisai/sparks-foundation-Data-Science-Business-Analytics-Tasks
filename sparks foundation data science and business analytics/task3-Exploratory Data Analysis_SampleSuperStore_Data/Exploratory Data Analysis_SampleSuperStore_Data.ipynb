{
 "cells": [
  {
   "cell_type": "code",
   "execution_count": null,
   "id": "eaffef55",
   "metadata": {},
   "outputs": [],
   "source": [
    "# Import necessary libraries\n",
    "import pandas as pd\n",
    "import numpy as np\n",
    "import matplotlib.pyplot as plt\n",
    "import seaborn as sns"
   ]
  },
  {
   "cell_type": "code",
   "execution_count": null,
   "id": "f6c58422",
   "metadata": {},
   "outputs": [],
   "source": [
    "#data loading\n",
    "data=pd.read_csv('SampleSuperstore.csv')\n",
    "data"
   ]
  },
  {
   "cell_type": "code",
   "execution_count": null,
   "id": "2a898cb9",
   "metadata": {},
   "outputs": [],
   "source": [
    "# Check the first five rows of the dataset\n",
    "data.head()"
   ]
  },
  {
   "cell_type": "code",
   "execution_count": null,
   "id": "744d1b0e",
   "metadata": {},
   "outputs": [],
   "source": [
    "# Check the last five rows of the dataset\n",
    "data.tail()"
   ]
  },
  {
   "cell_type": "code",
   "execution_count": null,
   "id": "b9ca3c1d",
   "metadata": {},
   "outputs": [],
   "source": [
    "# Check the number of rows and columns in the dataset\n",
    "data.shape"
   ]
  },
  {
   "cell_type": "code",
   "execution_count": null,
   "id": "b94ae258",
   "metadata": {},
   "outputs": [],
   "source": [
    "# Check the data types of the columns\n",
    "data.dtypes"
   ]
  },
  {
   "cell_type": "code",
   "execution_count": null,
   "id": "91b45122",
   "metadata": {},
   "outputs": [],
   "source": [
    "# Check for missing values in the dataset\n",
    "data.isnull().sum()"
   ]
  },
  {
   "cell_type": "code",
   "execution_count": null,
   "id": "aaba4c0f",
   "metadata": {},
   "outputs": [],
   "source": [
    "# Check the statistical summary of the dataset\n",
    "data.describe()"
   ]
  },
  {
   "cell_type": "code",
   "execution_count": null,
   "id": "aa8f2ea5",
   "metadata": {},
   "outputs": [],
   "source": [
    "# Check the correlation between the columns\n",
    "data.corr()"
   ]
  },
  {
   "cell_type": "code",
   "execution_count": null,
   "id": "59df8307",
   "metadata": {},
   "outputs": [],
   "source": [
    "# Visualize the correlation matrix using a heatmap\n",
    "sns.heatmap(data.corr(), annot=True, cmap='coolwarm')"
   ]
  },
  {
   "cell_type": "code",
   "execution_count": null,
   "id": "d05ee2fd",
   "metadata": {},
   "outputs": [],
   "source": [
    "# Visualize the distribution of each column using histograms\n",
    "data.hist(bins=30, figsize=(20,15))"
   ]
  },
  {
   "cell_type": "code",
   "execution_count": null,
   "id": "2301c4ef",
   "metadata": {},
   "outputs": [],
   "source": [
    "# Visualize the total sales and profit of each category using a bar plot\n",
    "plt.figure(figsize=(12,6))\n",
    "plt.title('Total Sales and Profit of Each Category')\n",
    "sns.barplot(x='Category', y='Sales', data=data, estimator=sum, ci=None, color='b')\n",
    "sns.barplot(x='Category', y='Profit', data=data, estimator=sum, ci=None, color='r')\n",
    "plt.show()"
   ]
  },
  {
   "cell_type": "code",
   "execution_count": null,
   "id": "5f16353e",
   "metadata": {},
   "outputs": [],
   "source": [
    "# Visualize the total sales and profit of each sub-category using a bar plot\n",
    "plt.figure(figsize=(20,8))\n",
    "plt.title('Total Sales and Profit of Each Sub-Category')\n",
    "sns.barplot(x='Sub-Category', y='Sales', data=data, estimator=sum, ci=None, color='b')\n",
    "sns.barplot(x='Sub-Category', y='Profit', data=data, estimator=sum, ci=None, color='r')\n",
    "plt.show()"
   ]
  },
  {
   "cell_type": "code",
   "execution_count": null,
   "id": "00b24262",
   "metadata": {},
   "outputs": [],
   "source": [
    "# Visualize the total sales and profit of each state using a bar plot\n",
    "plt.figure(figsize=(20,8))\n",
    "plt.title('Total Sales and Profit of Each State')\n",
    "sns.barplot(x='State', y='Sales', data=data, estimator=sum, ci=None, color='b')\n",
    "sns.barplot(x='State', y='Profit', data=data, estimator=sum, ci=None, color='r')\n",
    "plt.xticks(rotation=90)\n",
    "plt.show()"
   ]
  },
  {
   "cell_type": "code",
   "execution_count": null,
   "id": "3590b2d5",
   "metadata": {},
   "outputs": [],
   "source": [
    "# Visualize the total sales and profit of each region using a bar plot\n",
    "plt.figure(figsize=(10,6))\n",
    "plt.title('Total Sales and Profit of Each Region')\n",
    "sns.barplot(x='Region', y='Sales', data=data, estimator=sum, ci=None, color='b')\n",
    "sns.barplot(x='Region', y='Profit', data=data, estimator=sum, ci=None, color='r')\n",
    "plt.show()"
   ]
  }
 ],
 "metadata": {
  "kernelspec": {
   "display_name": "Python 3 (ipykernel)",
   "language": "python",
   "name": "python3"
  },
  "language_info": {
   "codemirror_mode": {
    "name": "ipython",
    "version": 3
   },
   "file_extension": ".py",
   "mimetype": "text/x-python",
   "name": "python",
   "nbconvert_exporter": "python",
   "pygments_lexer": "ipython3",
   "version": "3.9.12"
  }
 },
 "nbformat": 4,
 "nbformat_minor": 5
}
